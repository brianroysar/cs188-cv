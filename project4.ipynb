{
 "cells": [
  {
   "cell_type": "markdown",
   "metadata": {},
   "source": [
    "### Implementing Photometric Stereo\n",
    "\n",
    "This part of the problem is meant to give you a hands on exposure to implementing a basic photometric stereo approach which assumes that the surface is Lambertian. Please make sure to download the data directory"
   ]
  },
  {
   "cell_type": "code",
   "execution_count": 34,
   "metadata": {},
   "outputs": [],
   "source": [
    "import numpy as np\n",
    "import os\n",
    "import cv2\n",
    "import matplotlib.pyplot as plt"
   ]
  },
  {
   "cell_type": "code",
   "execution_count": 35,
   "metadata": {},
   "outputs": [],
   "source": [
    "### Helper functions\n",
    "\n",
    "\"\"\"\n",
    "Some useful functions for implementing photometric stereo\n",
    "\"\"\"\n",
    "def cos_diff(a, b):\n",
    "    \"\"\"Takes 2 vectors a, b and returns the cosine distance \n",
    "    \"\"\"\n",
    "    dot_product = np.dot(a, b) # x.y\n",
    "    norm_a = np.linalg.norm(a) #|x|\n",
    "    norm_b = np.linalg.norm(b) #|y|\n",
    "    return 1 - dot_product / (norm_a * norm_b)\n",
    "\n",
    "def get_error_map(N_gt, N_hat, mask):\n",
    "    error_img = np.zeros((N_gt.shape[0], N_gt.shape[1]))\n",
    "    N_gt = N_gt / np.max(N_gt)\n",
    "    N_hat = N_hat / np.max(N_hat)\n",
    "\n",
    "    for i in range(error_img.shape[0]):\n",
    "        for j in range(error_img.shape[1]):\n",
    "            error_img[i,j] = cos_diff(N_gt[i,j,:], N_hat[i,j,:])\n",
    "\n",
    "    error_img = error_img*mask\n",
    "    error_img[np.isnan(error_img)] = 0\n",
    "    return error_img\n",
    "\n",
    "def display_gray(img):\n",
    "    if len(img.shape) > 2:\n",
    "        print(\"not rgb image\")\n",
    "        return\n",
    "    plt.imshow(img, cmap='gray')\n",
    "\n",
    "def convert_Nhat_img(N_hat, mask):\n",
    "    N_hat = N_hat - np.min(N_hat)\n",
    "    N_hat = N_hat/np.max(N_hat)\n",
    "    N_hat = (N_hat*255).astype(np.uint8)\n",
    "    N_hat = np.moveaxis(N_hat,0,-1)\n",
    "    mask_rep = np.tile(np.expand_dims(mask,-1),[1,1,3])\n",
    "    N_hat = N_hat * mask_rep\n",
    "    return N_hat\n",
    "    \n",
    "\n",
    "def load_object_data(data_dir ='/Users/brianroysar/Desktop/CS188_PSET_4/pmsData/', obj_name='cat', disp=True):\n",
    "#     data_dir = '/home/yiqin/Desktop/CS188_PSET_4/PS-FCN-Chinmay/data/datasets/DiLiGenT/pmsData/'\n",
    "    data_folder = os.path.join(data_dir, obj_name+ 'PNG')\n",
    "    file_path = os.path.join(data_folder, 'filenames.txt')\n",
    "\n",
    "    ## load image names in a list\n",
    "    with open(file_path) as f:\n",
    "        image_names = [line.rstrip() for line in f]\n",
    "\n",
    "    ## load mask\n",
    "    mask = cv2.imread(os.path.join(data_folder, 'mask.png'), 0).astype(np.bool)\n",
    "\n",
    "    ## load images as gray scale into an array\n",
    "    I = []\n",
    "\n",
    "    for name in image_names:\n",
    "        img = cv2.imread(os.path.join(data_folder,name), 0)\n",
    "        img = img * mask\n",
    "        img = np.expand_dims(img, axis=0)\n",
    "        I.append(img)\n",
    "    I = np.concatenate(I, axis=0)\n",
    "    L = np.loadtxt(os.path.join(data_folder,'light_directions.txt'))\n",
    "    if disp:\n",
    "        fig, axs = plt.subplots(1, 4, figsize=(15,15))\n",
    "        for i in range(4):\n",
    "            axs[i].axis('off')\n",
    "\n",
    "        axs[0].imshow(I[0], cmap='gray')\n",
    "        axs[0].set_title('I0')\n",
    "        axs[1].imshow(I[1], cmap='gray')\n",
    "        axs[1].set_title('I1')\n",
    "        axs[2].imshow(I[2], cmap='gray')\n",
    "        axs[2].set_title('I2')\n",
    "        axs[3].imshow(mask, cmap='gray')\n",
    "        axs[3].set_title('mask')\n",
    "    return I, L, mask"
   ]
  },
  {
   "cell_type": "markdown",
   "metadata": {},
   "source": [
    "##  4.1 Loading Data\n",
    "\n",
    "(i)"
   ]
  },
  {
   "cell_type": "code",
   "execution_count": 36,
   "metadata": {},
   "outputs": [
    {
     "data": {
      "image/png": "[encoded data removed]",
      "text/plain": [
       "<Figure size 1080x1080 with 4 Axes>"
      ]
     },
     "metadata": {
      "needs_background": "light"
     },
     "output_type": "display_data"
    }
   ],
   "source": [
    "data_dir = '/Users/brianroysar/Desktop/CS188_PSET_4/pmsData/' ## specify\n",
    "obj_name =  'bear' ## specify \n",
    "## specify the arguments data_dir, obj_name\n",
    "## obj_name : in the folder ./pmsData, the images of different objects are stored as {obj_name}PNG\n",
    "## data_dir: path for the pmsData folder, which is provided with the pset files on ccle\n",
    "I, L, mask = load_object_data(data_dir = data_dir, obj_name= obj_name)"
   ]
  },
  {
   "cell_type": "markdown",
   "metadata": {},
   "source": [
    "(ii) Write code in the box below to compute the mean and standard deviations for the lighting vectors stored in $L$ obtained from part (i)"
   ]
  },
  {
   "cell_type": "code",
   "execution_count": 40,
   "metadata": {},
   "outputs": [
    {
     "name": "stdout",
     "output_type": "stream",
     "text": [
      "L_mean : [-0.00130104  0.00580625  0.87051354], L_std : [0.39626501 0.28168523 0.07618881]\n"
     ]
    }
   ],
   "source": [
    "## Write code and paste it in overleaf \n",
    "## Complete the expression for mean\n",
    "L_mean = np.mean(L, axis = 0)\n",
    "## Complete the expression for standard deviation\n",
    "L_std = np.std(L, axis = 0 )\n",
    "print(\"L_mean : {}, L_std : {}\".format(L_mean, L_std))"
   ]
  },
  {
   "cell_type": "markdown",
   "metadata": {},
   "source": [
    "(iii) Write the dimensions of $L$ and $I_m$. Note that $I_m$ is not the same as $I$. "
   ]
  },
  {
   "cell_type": "code",
   "execution_count": 62,
   "metadata": {},
   "outputs": [
    {
     "name": "stdout",
     "output_type": "stream",
     "text": [
      "Shape of L:  (96, 3)\n",
      "Shape of dim_Im:  (96, 313344)\n"
     ]
    }
   ],
   "source": [
    "## Write code to print dimensions of L and I_m \n",
    "dim_L = L.shape\n",
    "I_m = np.reshape(I, (I.shape[0], I.shape[1]*I.shape[2]))\n",
    "dim_Im = I_m.shape\n",
    "print(\"Shape of L: \", dim_L)\n",
    "print(\"Shape of dim_Im: \", dim_Im)"
   ]
  },
  {
   "cell_type": "markdown",
   "metadata": {},
   "source": [
    "### 4.2 - Implementing Photometric Stereo\n",
    "\n",
    "In this part you will write the code to obtain the surface normals $\\hat{N}$ from $L$ and $I_m$"
   ]
  },
  {
   "cell_type": "markdown",
   "metadata": {},
   "source": [
    "(i) Obtain $\\hat{G}$ from $L$ and $I_m$ by completing the code in the block below "
   ]
  },
  {
   "cell_type": "code",
   "execution_count": 79,
   "metadata": {},
   "outputs": [
    {
     "name": "stdout",
     "output_type": "stream",
     "text": [
      "(3, 313344)\n"
     ]
    }
   ],
   "source": [
    "\"\"\"\n",
    "Before obtaining G_hat, you will first compute a vectorized version of G_hat\n",
    "(denoted by G_hat_vec) of size 3xn\n",
    "\"\"\"\n",
    "H, W = I.shape[1], I.shape[2]\n",
    "L_inv = np.linalg.pinv(L)\n",
    "G_hat_vec = np.matmul(L_inv, I_m)\n",
    "G_hat = G_hat_vec, (3, H, W)\n",
    "print(G_hat_vec.shape)"
   ]
  },
  {
   "cell_type": "markdown",
   "metadata": {},
   "source": [
    "(ii) Write code to obtain $\\hat{\\rho}$ from the computed G_hat_vec in the previous block"
   ]
  },
  {
   "cell_type": "code",
   "execution_count": 83,
   "metadata": {},
   "outputs": [],
   "source": [
    "rho_hat = np.zeros((G_hat_vec.shape[1], 1))\n",
    "for i in range(G_hat_vec.shape[1]):\n",
    "    rho_hat[i][0] = np.linalg.norm([G_hat_vec[0][i], G_hat_vec[1][i], G_hat_vec[2][i]])"
   ]
  },
  {
   "cell_type": "markdown",
   "metadata": {},
   "source": [
    "(iii) Write code to obtain $\\hat{N}$."
   ]
  },
  {
   "cell_type": "code",
   "execution_count": 91,
   "metadata": {},
   "outputs": [],
   "source": [
    "### complete code to obtain N_hat_vec\n",
    "np.seterr(divide='ignore', invalid='ignore')\n",
    "N_hat_vec = np.divide(G_hat_vec, np.transpose(rho_hat))\n",
    "N_hat_vec[np.isnan(N_hat_vec)] = 0\n",
    "N_hat = N_hat_vec.reshape(3, H, W)"
   ]
  },
  {
   "cell_type": "code",
   "execution_count": 92,
   "metadata": {},
   "outputs": [],
   "source": [
    "### Complete the function definition using the parts solved above to compute photometric stereo. \n",
    "def compute_Nhat(I,L):\n",
    "    \"\"\"\n",
    "    takes in I, L generated from load_input_data function, returns N_hat of shape (3,H,W).\n",
    "    H,W : I.shape[1], I.shape[2]\n",
    "    \"\"\"\n",
    "    ## fill in code here\n",
    "    L_mean = np.mean(L, axis = 0)\n",
    "    L_std = np.std(L, axis = 0)\n",
    "    dim_L = L.shape\n",
    "    I_m = np.reshape(I, (I.shape[0], I.shape[1]*I.shape[2]))\n",
    "    dim_Im = I_m.shape\n",
    "    H, W = I.shape[1], I.shape[2]\n",
    "    L_inv = np.linalg.pinv(L)\n",
    "    G_hat_vec = np.matmul(L_inv, I_m)\n",
    "    G_hat = G_hat_vec, (3, H, W)\n",
    "    rho_hat = np.zeros((G_hat_vec.shape[1], 1))\n",
    "    for i in range(G_hat_vec.shape[1]):\n",
    "        rho_hat[i][0] = np.linalg.norm([G_hat_vec[0][i], G_hat_vec[1][i], G_hat_vec[2][i]])\n",
    "    N_hat_vec = np.divide(G_hat_vec, np.transpose(rho_hat))\n",
    "    N_hat_vec[np.isnan(N_hat_vec)] = 0\n",
    "    N_hat = N_hat_vec.reshape(3, H, W)\n",
    "    return N_hat"
   ]
  },
  {
   "cell_type": "markdown",
   "metadata": {},
   "source": [
    "(iv) Display (a) The obtained reconstruction (b) Ground Truth (c) Error map. Use the helper functions and the code in the block below appropriately"
   ]
  },
  {
   "cell_type": "code",
   "execution_count": 102,
   "metadata": {},
   "outputs": [
    {
     "data": {
      "text/plain": [
       "Text(0.5, 1.0, 'Error Map')"
      ]
     },
     "execution_count": 102,
     "metadata": {},
     "output_type": "execute_result"
    },
    {
     "data": {
      "image/png": "[encoded data removed]",
      "text/plain": [
       "<Figure size 1080x1080 with 3 Axes>"
      ]
     },
     "metadata": {
      "needs_background": "light"
     },
     "output_type": "display_data"
    }
   ],
   "source": [
    "## loading ground truth surface normal image: \n",
    "obj_name = 'cow'\n",
    "I, L, mask = load_object_data(data_dir = data_dir, obj_name= obj_name, disp = False) # you can redefine data_dir or obj_name here\n",
    "N_gt = cv2.imread(os.path.join(data_dir, obj_name+ 'PNG', 'Normal_gt.png'))[:,:,::-1]\n",
    "\n",
    "## Converting N_hat to a displayable image format: \n",
    "N_hat = compute_Nhat(I,L)\n",
    "N_hat_disp = convert_Nhat_img(N_hat, mask)\n",
    "                  \n",
    "## Computing Error map between N_hat and N_gt\n",
    "error_img = get_error_map(N_gt, N_hat_disp, mask)                  \n",
    "\n",
    "fig, axs = plt.subplots(1, 3, figsize=(15,15))\n",
    "for i in range(3):\n",
    "    axs[i].axis('off')\n",
    "axs[0].imshow(N_gt, cmap='gray')\n",
    "axs[0].set_title('Normal Ground Truth')\n",
    "axs[1].imshow(N_hat_disp, cmap='gray')\n",
    "axs[1].set_title('Reconstruction')\n",
    "axs[2].imshow(error_img, cmap='gray')\n",
    "axs[2].set_title('Error Map')\n",
    "\n",
    "## Figure out how to save the images "
   ]
  },
  {
   "cell_type": "markdown",
   "metadata": {},
   "source": [
    "(v) Use the code in part 4 to generate images for other objects "
   ]
  },
  {
   "cell_type": "code",
   "execution_count": null,
   "metadata": {},
   "outputs": [],
   "source": []
  }
 ],
 "metadata": {
  "kernelspec": {
   "display_name": "Python 3",
   "language": "python",
   "name": "python3"
  },
  "language_info": {
   "codemirror_mode": {
    "name": "ipython",
    "version": 3
   },
   "file_extension": ".py",
   "mimetype": "text/x-python",
   "name": "python",
   "nbconvert_exporter": "python",
   "pygments_lexer": "ipython3",
   "version": "3.8.5"
  }
 },
 "nbformat": 4,
 "nbformat_minor": 4
}
